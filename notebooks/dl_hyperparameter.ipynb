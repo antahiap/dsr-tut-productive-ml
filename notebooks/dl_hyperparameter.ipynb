{
 "cells": [
  {
   "cell_type": "markdown",
   "metadata": {},
   "source": [
    "# Hyper parametr for Deepl\n",
    "\n",
    "Usually doing basian optimization than a grid search.\n",
    "\n",
    "- activaiton Function\n",
    "- num layers\n",
    "- num nodes per layer\n",
    "- batch size, BS, go with GPU capability\n",
    "- epochs\n",
    "- Learning rate, LR\n",
    "- loss function\n",
    "- optimizer\n",
    "- drop out/ batch norm\n",
    "- architecture selection\n",
    "- number of layers to unfreeze\n",
    "\n",
    "## NLP\n",
    "- Dictionary size\n",
    "- toknizer\n",
    "- embedding size\n",
    "### The transformer\n",
    "- number of heads\n",
    "- number of blocks\n",
    "\n",
    "## Computer vision\n",
    "- Pooling\n",
    "- Padding\n",
    "- Number of filters\n",
    "- conv size\n",
    "- stride\n"
   ]
  },
  {
   "cell_type": "code",
   "execution_count": null,
   "metadata": {},
   "outputs": [],
   "source": []
  }
 ],
 "metadata": {
  "language_info": {
   "name": "python"
  },
  "orig_nbformat": 4
 },
 "nbformat": 4,
 "nbformat_minor": 2
}
