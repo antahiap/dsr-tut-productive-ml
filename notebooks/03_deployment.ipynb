{
 "cells": [
  {
   "cell_type": "code",
   "execution_count": 4,
   "metadata": {},
   "outputs": [
    {
     "name": "stdout",
     "output_type": "stream",
     "text": [
      "Requirement already satisfied: FastAPI in /home/apakiman/anaconda3/envs/dsr/lib/python3.8/site-packages (0.101.1)\n",
      "Requirement already satisfied: pydantic!=1.8,!=1.8.1,!=2.0.0,!=2.0.1,!=2.1.0,<3.0.0,>=1.7.4 in /home/apakiman/anaconda3/envs/dsr/lib/python3.8/site-packages (from FastAPI) (2.1.1)\n",
      "Requirement already satisfied: starlette<0.28.0,>=0.27.0 in /home/apakiman/anaconda3/envs/dsr/lib/python3.8/site-packages (from FastAPI) (0.27.0)\n",
      "Requirement already satisfied: typing-extensions>=4.5.0 in /home/apakiman/anaconda3/envs/dsr/lib/python3.8/site-packages (from FastAPI) (4.7.1)\n",
      "Requirement already satisfied: annotated-types>=0.4.0 in /home/apakiman/anaconda3/envs/dsr/lib/python3.8/site-packages (from pydantic!=1.8,!=1.8.1,!=2.0.0,!=2.0.1,!=2.1.0,<3.0.0,>=1.7.4->FastAPI) (0.5.0)\n",
      "Requirement already satisfied: pydantic-core==2.4.0 in /home/apakiman/anaconda3/envs/dsr/lib/python3.8/site-packages (from pydantic!=1.8,!=1.8.1,!=2.0.0,!=2.0.1,!=2.1.0,<3.0.0,>=1.7.4->FastAPI) (2.4.0)\n",
      "Requirement already satisfied: anyio<5,>=3.4.0 in /home/apakiman/anaconda3/envs/dsr/lib/python3.8/site-packages (from starlette<0.28.0,>=0.27.0->FastAPI) (3.7.1)\n",
      "Requirement already satisfied: idna>=2.8 in /home/apakiman/anaconda3/envs/dsr/lib/python3.8/site-packages (from anyio<5,>=3.4.0->starlette<0.28.0,>=0.27.0->FastAPI) (3.4)\n",
      "Requirement already satisfied: sniffio>=1.1 in /home/apakiman/anaconda3/envs/dsr/lib/python3.8/site-packages (from anyio<5,>=3.4.0->starlette<0.28.0,>=0.27.0->FastAPI) (1.3.0)\n",
      "Requirement already satisfied: exceptiongroup in /home/apakiman/anaconda3/envs/dsr/lib/python3.8/site-packages (from anyio<5,>=3.4.0->starlette<0.28.0,>=0.27.0->FastAPI) (1.1.3)\n"
     ]
    }
   ],
   "source": [
    "! pip install FastAPI\n",
    "! pip install \"uvicorn[standard]\""
   ]
  },
  {
   "cell_type": "code",
   "execution_count": 5,
   "metadata": {},
   "outputs": [],
   "source": [
    "from fastapi import FastAPI, Request\n",
    "from joblib import load\n",
    "from pydantic import BaseModel\n",
    "\n",
    "app = FastAPI()\n",
    "\n",
    "\n",
    "class Prediction(BaseModel):\n",
    "    prediction: int \n",
    "\n",
    "@app.get(\"/\")\n",
    "def root():\n",
    "    return {\"message\": \"Hello World\"}\n",
    "\n",
    "@app.get(\"/predict\", response_model=Prediction)\n",
    "def predict(req:Request):\n",
    "\n",
    "    query_params =  req.query_params\n",
    "\n",
    "    data = [\n",
    "        query_params['sequallength'],\n",
    "        query_params['sequalwidth'],\n",
    "        query_params['petallength'],\n",
    "        query_params['petalwidth']\n",
    "    ]\n",
    "\n",
    "    # call the model\n",
    "    clf = load('../model/iris_hp_model.joblib')\n",
    "    pred = clf.predict([data])\n",
    "\n",
    "    return {'prediction': int(pred)}"
   ]
  },
  {
   "cell_type": "code",
   "execution_count": 1,
   "metadata": {},
   "outputs": [
    {
     "name": "stdout",
     "output_type": "stream",
     "text": [
      "\u001b[32mINFO\u001b[0m:     Will watch for changes in these directories: ['/home/apakiman/Projects/DSR/dsr-tut-productive-ml/notebooks']\n",
      "\u001b[32mINFO\u001b[0m:     Uvicorn running on \u001b[1mhttp://127.0.0.1:8000\u001b[0m (Press CTRL+C to quit)\n",
      "\u001b[32mINFO\u001b[0m:     Started reloader process [\u001b[36m\u001b[1m312933\u001b[0m] using \u001b[36m\u001b[1mWatchFiles\u001b[0m\n",
      "\u001b[31mERROR\u001b[0m:    Error loading ASGI app. Could not import module \"iris_app\".\n",
      "^C\n",
      "\u001b[32mINFO\u001b[0m:     Stopping reloader process [\u001b[36m\u001b[1m312933\u001b[0m]\n"
     ]
    }
   ],
   "source": [
    "! uvicorn iris_app:app --reload"
   ]
  },
  {
   "cell_type": "code",
   "execution_count": null,
   "metadata": {},
   "outputs": [],
   "source": [
    "127.0.0.1:8000/predict?sequallength=3.0&sequalwidth=2.0&petallength=1.0&petalwidth=9.0"
   ]
  },
  {
   "cell_type": "markdown",
   "metadata": {},
   "source": [
    "# AWS\n",
    "\n",
    "permission, user, group all\n",
    "read:4, write=2, x=1"
   ]
  },
  {
   "cell_type": "code",
   "execution_count": null,
   "metadata": {},
   "outputs": [],
   "source": [
    "! ssh -i .key/iris-app.pem ubuntu@3.70.97.156 \n",
    "! chmod chmod 0400 .key/iris-app.pem \n",
    "\n",
    "! ssh -i .key/iris-app.pem ubuntu@3.70.97.156 \n"
   ]
  },
  {
   "cell_type": "code",
   "execution_count": null,
   "metadata": {},
   "outputs": [],
   "source": [
    "# on deployment\n",
    "$ gunicorn iris_app:app -k uvicorn.workers.UvicornWorker -b 0.0.0.0:8080\n",
    "\n",
    "sudo iptables -A PREROUTING -t nat -p tcp --dport 80 -j REDIRECT --to-ports 8080"
   ]
  },
  {
   "cell_type": "markdown",
   "metadata": {},
   "source": [
    "# Locust- benchmarking\n",
    "\n",
    "in the server of the Locust put the url with the port, eg: `http://127.0.0.1:8000`"
   ]
  },
  {
   "cell_type": "code",
   "execution_count": null,
   "metadata": {},
   "outputs": [],
   "source": [
    "! locust -f step4/benchmark.py\n",
    "! uvicorn iris_app:app --reload"
   ]
  },
  {
   "cell_type": "markdown",
   "metadata": {},
   "source": [
    "# PY-spy\n",
    "- Started server process [337490]"
   ]
  },
  {
   "cell_type": "code",
   "execution_count": null,
   "metadata": {},
   "outputs": [],
   "source": [
    "! pip install py-spy\n",
    "py-spy top --pid"
   ]
  },
  {
   "cell_type": "markdown",
   "metadata": {},
   "source": [
    "# Dockerization\n",
    "- make an image from a docker file: `docker build -t iris-b35`\n",
    "- get existing images: `docker pull`\n",
    "- make th container: `docker run [-it] [--rm] <IMAG> --name cont-b35`\n",
    "\n",
    "- clean the image: `docker rmi <IMAGE>`\n",
    "- list of images: `docker images`\n",
    "- list the container: `docker ps`\n",
    "- delete the container: `docker rm <CONTAINER>`"
   ]
  }
 ],
 "metadata": {
  "kernelspec": {
   "display_name": "dsr",
   "language": "python",
   "name": "python3"
  },
  "language_info": {
   "codemirror_mode": {
    "name": "ipython",
    "version": 3
   },
   "file_extension": ".py",
   "mimetype": "text/x-python",
   "name": "python",
   "nbconvert_exporter": "python",
   "pygments_lexer": "ipython3",
   "version": "3.8.17"
  },
  "orig_nbformat": 4
 },
 "nbformat": 4,
 "nbformat_minor": 2
}
